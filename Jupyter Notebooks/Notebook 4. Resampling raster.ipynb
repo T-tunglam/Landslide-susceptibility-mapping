{
 "cells": [
  {
   "cell_type": "markdown",
   "id": "301f81e0",
   "metadata": {},
   "source": [
    "The notebook resamples variables in .tif format to the resolution of the DEM (2m)"
   ]
  },
  {
   "cell_type": "markdown",
   "id": "c3af305d",
   "metadata": {},
   "source": [
    "Importing relevant packages"
   ]
  },
  {
   "cell_type": "code",
   "execution_count": 1,
   "id": "3e3bad11",
   "metadata": {},
   "outputs": [],
   "source": [
    "from osgeo import gdal, gdalconst\n",
    "import os"
   ]
  },
  {
   "cell_type": "markdown",
   "id": "691161b5",
   "metadata": {},
   "source": [
    "Setting up the directory"
   ]
  },
  {
   "cell_type": "code",
   "execution_count": 2,
   "id": "606112cc",
   "metadata": {},
   "outputs": [],
   "source": [
    "os.chdir(r\"C:\\Users\\angelinkatula\\Desktop\\P8\\climate_data\")"
   ]
  },
  {
   "cell_type": "markdown",
   "id": "18eb035b",
   "metadata": {},
   "source": [
    "The file that needs to be resamples. (in this example it is the average wind speed for future climate scenario RCP8.5, year 2700-2100"
   ]
  },
  {
   "cell_type": "code",
   "execution_count": 3,
   "id": "8b347650",
   "metadata": {},
   "outputs": [],
   "source": [
    "src_filename = 'wind_mean_future.tif'\n",
    "src = gdal.Open(src_filename, gdalconst.GA_ReadOnly)\n",
    "src_proj = src.GetProjection()\n",
    "src_geotrans = src.GetGeoTransform()"
   ]
  },
  {
   "cell_type": "markdown",
   "id": "a4e6a1ef",
   "metadata": {},
   "source": [
    "Cheking its nodata value"
   ]
  },
  {
   "cell_type": "code",
   "execution_count": 4,
   "id": "b991afcf",
   "metadata": {},
   "outputs": [
    {
     "data": {
      "text/plain": [
       "1.0000000150474662e+30"
      ]
     },
     "execution_count": 4,
     "metadata": {},
     "output_type": "execute_result"
    }
   ],
   "source": [
    "NDV = src.GetRasterBand(1).GetNoDataValue()\n",
    "NDV"
   ]
  },
  {
   "cell_type": "markdown",
   "id": "4722e6fe",
   "metadata": {},
   "source": [
    "The file which resolution is desired"
   ]
  },
  {
   "cell_type": "code",
   "execution_count": 5,
   "id": "88b65322",
   "metadata": {},
   "outputs": [
    {
     "data": {
      "text/plain": [
       "-9999.0"
      ]
     },
     "execution_count": 5,
     "metadata": {},
     "output_type": "execute_result"
    }
   ],
   "source": [
    "# We want a section of source that matches this:\n",
    "match_filename = r'C:\\Users\\angelinkatula\\Desktop\\P8\\Variables\\dem_elevation.tif'\n",
    "match_ds = gdal.Open(match_filename, gdalconst.GA_ReadOnly)\n",
    "match_proj = match_ds.GetProjection()\n",
    "match_geotrans = match_ds.GetGeoTransform()\n",
    "match_NDV = match_ds.GetRasterBand(1).GetNoDataValue()\n",
    "wide = match_ds.RasterXSize\n",
    "high = match_ds.RasterYSize\n",
    "match_NDV"
   ]
  },
  {
   "cell_type": "markdown",
   "id": "2c997f6c",
   "metadata": {},
   "source": [
    "Resampling and saving output as .tif"
   ]
  },
  {
   "cell_type": "code",
   "execution_count": 6,
   "id": "aff1fef5",
   "metadata": {},
   "outputs": [],
   "source": [
    "# Output / destination\n",
    "dst_filename = r'wind_m_future_resampled_2m.tif'\n",
    "dst = gdal.GetDriverByName('GTiff').Create(dst_filename, wide, high, 1, gdalconst.GDT_Float32)\n",
    "dst.SetGeoTransform( match_geotrans )\n",
    "dst.SetProjection( match_proj)\n",
    "dst.GetRasterBand(1).SetNoDataValue(match_NDV)\n",
    "\n",
    "# Do the work\n",
    "gdal.ReprojectImage(src, dst, src_proj, match_proj, gdalconst.GRA_NearestNeighbour)\n",
    "dst.FlushCache()\n",
    "del dst # Flush"
   ]
  }
 ],
 "metadata": {
  "kernelspec": {
   "display_name": "lsm",
   "language": "python",
   "name": "lsm"
  },
  "language_info": {
   "codemirror_mode": {
    "name": "ipython",
    "version": 3
   },
   "file_extension": ".py",
   "mimetype": "text/x-python",
   "name": "python",
   "nbconvert_exporter": "python",
   "pygments_lexer": "ipython3",
   "version": "3.8.12"
  }
 },
 "nbformat": 4,
 "nbformat_minor": 5
}
